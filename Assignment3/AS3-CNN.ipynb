{
  "nbformat": 4,
  "nbformat_minor": 0,
  "metadata": {
    "anaconda-cloud": {},
    "colab": {
      "name": "AS1-Logistic_Regression.ipynb",
      "provenance": [],
      "collapsed_sections": [],
      "include_colab_link": true
    },
    "kernelspec": {
      "display_name": "Python 3",
      "language": "python",
      "name": "python3"
    },
    "language_info": {
      "codemirror_mode": {
        "name": "ipython",
        "version": 3
      },
      "file_extension": ".py",
      "mimetype": "text/x-python",
      "name": "python",
      "nbconvert_exporter": "python",
      "pygments_lexer": "ipython3",
      "version": "3.7.6"
    },
    "accelerator": "GPU"
  },
  "cells": [
    {
      "cell_type": "markdown",
      "metadata": {
        "id": "view-in-github",
        "colab_type": "text"
      },
      "source": [
        "<a href=\"https://colab.research.google.com/github/lucetre/MachineLearning/blob/master/Assignment3/AS3-CNN.ipynb\" target=\"_parent\"><img src=\"https://colab.research.google.com/assets/colab-badge.svg\" alt=\"Open In Colab\"/></a>"
      ]
    },
    {
      "cell_type": "markdown",
      "metadata": {
        "colab_type": "text",
        "id": "t6j5WcA3GbSk"
      },
      "source": [
        "# M2608.001300 Machine Learning<br> Assignment #3 Training Convolutional Neural Networks (Pytorch)"
      ]
    },
    {
      "cell_type": "markdown",
      "metadata": {
        "id": "XwJd2htZIOyF",
        "colab_type": "text"
      },
      "source": [
        "Copyright (C) Data Science & AI Laboratory, Seoul National University. This material is for educational uses only. Some contents are based on the material provided by other paper/book authors and may be copyrighted by them. Written by Jooyoung Choi, February 2020"
      ]
    },
    {
      "cell_type": "markdown",
      "metadata": {
        "id": "l2y2FmJLIOyN",
        "colab_type": "text"
      },
      "source": [
        "**For understanding of this work, please carefully look at given PPT file.**\n",
        "\n",
        "Now, you're going to leave behind your implementations and instead migrate to one of popular deep learning frameworks, **PyTorch**. <br>\n",
        "In this notebook, you will learn how to train convolutional neural networks (CNNs) for classifying images in the CIFAR-10 dataset. <br>\n",
        "There are **2 sections**, and in each section, you need to follow the instructions to complete the skeleton codes and explain them.\n",
        "\n",
        "**Note**: certain details are missing or ambiguous on purpose, in order to test your knowledge on the related materials. However, if you really feel that something essential is missing and cannot proceed to the next step, then contact the teaching staff with clear description of your problem.\n",
        "\n",
        "\n",
        "### Some helpful tutorials and references for assignment #3:\n",
        "- [1] Pytorch official documentation. [[link]](https://pytorch.org/docs/stable/index.html)\n",
        "- [2] Stanford CS231n lectures. [[link]](http://cs231n.stanford.edu/)\n",
        "- [3] Szegedy et al., \"Going deeper with convolutions\", CVPR 2015. [[pdf]](http://www.cv-foundation.org/openaccess/content_cvpr_2015/papers/Szegedy_Going_Deeper_With_2015_CVPR_paper.pdf)"
      ]
    },
    {
      "cell_type": "markdown",
      "metadata": {
        "id": "9vlRGqS8IOyT",
        "colab_type": "text"
      },
      "source": [
        "## 1. Load datasets\n",
        "The CIFAR-10 dataset will be downloaded automatically if it is not located in the *data* directory. <br>"
      ]
    },
    {
      "cell_type": "code",
      "metadata": {
        "id": "fJSoU3f4IOyY",
        "colab_type": "code",
        "colab": {}
      },
      "source": [
        "import torch\n",
        "import torchvision\n",
        "import torchvision.transforms as transforms\n",
        "import matplotlib.pyplot as plt\n",
        "import numpy as np\n",
        "import torch.nn as nn\n",
        "import torch.nn.functional as F\n",
        "import torch.optim as optim"
      ],
      "execution_count": 0,
      "outputs": []
    },
    {
      "cell_type": "code",
      "metadata": {
        "id": "jVlamDBrIOzC",
        "colab_type": "code",
        "outputId": "f99062c4-0e7e-4823-b41f-740e642b9862",
        "colab": {
          "base_uri": "https://localhost:8080/",
          "height": 53
        }
      },
      "source": [
        "transform = transforms.Compose(\n",
        "    [transforms.ToTensor(),\n",
        "     transforms.Normalize((0.5, 0.5, 0.5), (0.5, 0.5, 0.5))])\n",
        "\n",
        "trainset = torchvision.datasets.CIFAR10(root='./data', train=True,\n",
        "                                        download=True, transform=transform)\n",
        "trainloader = torch.utils.data.DataLoader(trainset, batch_size=8,\n",
        "                                          shuffle=True, num_workers=2)\n",
        "\n",
        "testset = torchvision.datasets.CIFAR10(root='./data', train=False,\n",
        "                                       download=True, transform=transform)\n",
        "testloader = torch.utils.data.DataLoader(testset, batch_size=8,\n",
        "                                         shuffle=False, num_workers=2)\n",
        "\n",
        "classes = ('plane', 'car', 'bird', 'cat',\n",
        "           'deer', 'dog', 'frog', 'horse', 'ship', 'truck')"
      ],
      "execution_count": 35,
      "outputs": [
        {
          "output_type": "stream",
          "text": [
            "Files already downloaded and verified\n",
            "Files already downloaded and verified\n"
          ],
          "name": "stdout"
        }
      ]
    },
    {
      "cell_type": "code",
      "metadata": {
        "id": "ATalcGJPIOzc",
        "colab_type": "code",
        "colab": {}
      },
      "source": [
        "# function to show an image\n",
        "def imshow(img):\n",
        "    img = img / 2 + 0.5     # unnormalize\n",
        "    npimg = img.numpy()\n",
        "    print(np.transpose(npimg, (1, 2, 0)).shape)\n",
        "    plt.imshow(np.transpose(npimg, (1, 2, 0)))\n",
        "    plt.show()"
      ],
      "execution_count": 0,
      "outputs": []
    },
    {
      "cell_type": "code",
      "metadata": {
        "id": "ntQfdXSzIOzs",
        "colab_type": "code",
        "outputId": "fe316279-2569-4c7e-d161-72225b3bc34b",
        "colab": {
          "base_uri": "https://localhost:8080/",
          "height": 167
        }
      },
      "source": [
        "# get some random training images\n",
        "print(trainloader)\n",
        "dataiter = iter(trainloader)\n",
        "images, labels = dataiter.next()\n",
        "\n",
        "# show images\n",
        "imshow(torchvision.utils.make_grid(images))\n",
        "# print labels\n",
        "print(' '.join('%s' % classes[labels[j]] for j in range(8)))\n",
        "# print size of single image\n",
        "print(images[1].shape)"
      ],
      "execution_count": 37,
      "outputs": [
        {
          "output_type": "stream",
          "text": [
            "<torch.utils.data.dataloader.DataLoader object at 0x7fabc3d72978>\n",
            "(36, 274, 3)\n"
          ],
          "name": "stdout"
        },
        {
          "output_type": "display_data",
          "data": {
            "image/png": "[encoded data removed]",
            "text/plain": [
              "<Figure size 432x288 with 1 Axes>"
            ]
          },
          "metadata": {
            "tags": [],
            "needs_background": "light"
          }
        },
        {
          "output_type": "stream",
          "text": [
            "horse plane bird truck bird cat bird cat\n",
            "torch.Size([3, 32, 32])\n"
          ],
          "name": "stdout"
        }
      ]
    },
    {
      "cell_type": "markdown",
      "metadata": {
        "id": "m1L1i9i3IO0C",
        "colab_type": "text"
      },
      "source": [
        "## 2. Training a small CNN model\n",
        "\n",
        "#### CNN architecture in order:\n",
        "* 7x7 Convolutional layer with 8 filters, strides of 1, and ReLU activation\n",
        "* 2x2 Max pooling layer with strides of 2\n",
        "* 4x4 Convolutional layer with 16 filters, strides of 1, and ReLU activation\n",
        "* 2x2 Max pooling layer with strides of 2\n",
        "* Fully connected layer with 100 output units and ReLU activation\n",
        "* Fully connected layer with 80 output units and ReLU activation\n",
        "* Fully connected layer with 10 output units and linear activation\n",
        "* You can use any padding option.\n",
        "\n",
        "#### Training setup:\n",
        "* Loss function: Softmax cross entropy\n",
        "* Optimizer: Gradient descent with 0.001 learning rate\n",
        "* Batch size: 8\n",
        "* Training epoch: 2"
      ]
    },
    {
      "cell_type": "code",
      "metadata": {
        "id": "kjcOf4ZcIO0G",
        "colab_type": "code",
        "colab": {}
      },
      "source": [
        "# Define a CNN model\n",
        "class Net(nn.Module):\n",
        "    def __init__(self):\n",
        "        super(Net, self).__init__()\n",
        "        ##############################################################################\n",
        "        #                          IMPLEMENT YOUR CODE                               #\n",
        "        ##############################################################################\n",
        "        self.conv1 = nn.Conv2d(3, 6, 5)\n",
        "        self.pool = nn.MaxPool2d(2, 2)\n",
        "        self.conv2 = nn.Conv2d(6, 16, 5)\n",
        "        self.fc1 = nn.Linear(16 * 5 * 5, 120)\n",
        "        self.fc2 = nn.Linear(120, 84)\n",
        "        self.fc3 = nn.Linear(84, 10)\n",
        "        ##############################################################################\n",
        "        #                          END OF YOUR CODE                                  #\n",
        "        ##############################################################################\n",
        "\n",
        "    def forward(self, x):\n",
        "        ##############################################################################\n",
        "        #                          IMPLEMENT YOUR CODE                               #\n",
        "        ##############################################################################\n",
        "        x = self.pool(F.relu(self.conv1(x)))\n",
        "        x = self.pool(F.relu(self.conv2(x)))\n",
        "        x = x.view(-1, 16 * 5 * 5)\n",
        "        x = F.relu(self.fc1(x))\n",
        "        x = F.relu(self.fc2(x))\n",
        "        x = self.fc3(x)\n",
        "        ##############################################################################\n",
        "        #                          END OF YOUR CODE                                  #\n",
        "        ##############################################################################\n",
        "        return x\n",
        "\n",
        "net = Net()"
      ],
      "execution_count": 0,
      "outputs": []
    },
    {
      "cell_type": "code",
      "metadata": {
        "id": "zZH_JR-yIO0d",
        "colab_type": "code",
        "outputId": "0e116cb4-b6c9-4870-f306-f138800fc7fa",
        "colab": {
          "base_uri": "https://localhost:8080/",
          "height": 35
        }
      },
      "source": [
        "# Training on GPU\n",
        "device = torch.device(\"cuda:0\" if torch.cuda.is_available() else \"cpu\")\n",
        "# device = torch.device(\"cpu\")\n",
        "net = net.to(device)\n",
        "print(device)"
      ],
      "execution_count": 39,
      "outputs": [
        {
          "output_type": "stream",
          "text": [
            "cuda:0\n"
          ],
          "name": "stdout"
        }
      ]
    },
    {
      "cell_type": "code",
      "metadata": {
        "id": "ZPdv67VBIO0s",
        "colab_type": "code",
        "colab": {}
      },
      "source": [
        "# Define a Loss function and optimizer\n",
        "criterion = nn.CrossEntropyLoss()\n",
        "optimizer = optim.SGD(net.parameters(), lr=0.001, momentum=0.9)"
      ],
      "execution_count": 0,
      "outputs": []
    },
    {
      "cell_type": "code",
      "metadata": {
        "id": "XMwnmcS3IO05",
        "colab_type": "code",
        "colab": {}
      },
      "source": [
        "# Function to train the network\n",
        "\n",
        "def train(net, trainloader, max_epoch, crit, opt, model_path='./cifar_net.pth'):\n",
        "\n",
        "    for epoch in range(max_epoch):  # loop over the dataset multiple times\n",
        "\n",
        "        running_loss = 0.0\n",
        "        for i, data in enumerate(trainloader, 0):\n",
        "            # get the inputs; data is a list of [inputs, labels]\n",
        "            inputs, labels = data\n",
        "        \n",
        "            # Training on GPU\n",
        "            inputs = inputs.to(device)\n",
        "            labels = labels.to(device)\n",
        "\n",
        "            # zero the parameter gradients\n",
        "            optimizer.zero_grad()\n",
        "\n",
        "            # forward + backward + optimize\n",
        "            outputs = net(inputs)\n",
        "            loss = crit(outputs, labels)\n",
        "            loss.backward()\n",
        "            opt.step()\n",
        "\n",
        "            # print statistics\n",
        "            running_loss += loss.item()\n",
        "            if i % 2000 == 1999:    # print every 2000 mini-batches\n",
        "                print('[%d, %5d] loss: %.3f' %\n",
        "                      (epoch + 1, i + 1, running_loss / 2000))\n",
        "                running_loss = 0.0\n",
        "\n",
        "    print('Finished Training')\n",
        "    torch.save(net.state_dict(), model_path)\n",
        "    print('Saved Trained Model')"
      ],
      "execution_count": 0,
      "outputs": []
    },
    {
      "cell_type": "code",
      "metadata": {
        "id": "nXTsNxfHIO1I",
        "colab_type": "code",
        "outputId": "b02ac22c-dd0a-4d75-d2ca-b675d3b571bf",
        "colab": {
          "base_uri": "https://localhost:8080/",
          "height": 161
        }
      },
      "source": [
        "PATH = './cifar_net.pth'\n",
        "epoch = 2\n",
        "train(net, trainloader, epoch, criterion, optimizer, PATH)"
      ],
      "execution_count": 42,
      "outputs": [
        {
          "output_type": "stream",
          "text": [
            "[1,  2000] loss: 2.231\n",
            "[1,  4000] loss: 1.880\n",
            "[1,  6000] loss: 1.631\n",
            "[2,  2000] loss: 1.499\n",
            "[2,  4000] loss: 1.441\n",
            "[2,  6000] loss: 1.365\n",
            "Finished Training\n",
            "Saved Trained Model\n"
          ],
          "name": "stdout"
        }
      ]
    },
    {
      "cell_type": "code",
      "metadata": {
        "id": "A3sQ8fgvIO1Z",
        "colab_type": "code",
        "outputId": "0781a94a-dd39-4149-e26f-7c52d87dde71",
        "colab": {
          "base_uri": "https://localhost:8080/",
          "height": 149
        }
      },
      "source": [
        "dataiter = iter(testloader)\n",
        "images, labels = dataiter.next()\n",
        "\n",
        "# print images\n",
        "imshow(torchvision.utils.make_grid(images))\n",
        "print('GroundTruth: ', ' '.join('%s' % classes[labels[j]] for j in range(4)))\n",
        "net = Net()\n",
        "net.load_state_dict(torch.load(PATH))\n",
        "outputs = net(images)\n",
        "_, predicted = torch.max(outputs, 1)\n",
        "\n",
        "print('Predicted: ', ' '.join('%s' % classes[predicted[j]]\n",
        "                              for j in range(4)))"
      ],
      "execution_count": 43,
      "outputs": [
        {
          "output_type": "stream",
          "text": [
            "(36, 274, 3)\n"
          ],
          "name": "stdout"
        },
        {
          "output_type": "display_data",
          "data": {
            "image/png": "[encoded data removed]",
            "text/plain": [
              "<Figure size 432x288 with 1 Axes>"
            ]
          },
          "metadata": {
            "tags": [],
            "needs_background": "light"
          }
        },
        {
          "output_type": "stream",
          "text": [
            "GroundTruth:  cat ship ship plane\n",
            "Predicted:  cat plane ship ship\n"
          ],
          "name": "stdout"
        }
      ]
    },
    {
      "cell_type": "code",
      "metadata": {
        "id": "Si55X2bJIO1r",
        "colab_type": "code",
        "outputId": "ab6e0657-d168-45be-c637-c0be2c824947",
        "colab": {
          "base_uri": "https://localhost:8080/",
          "height": 197
        }
      },
      "source": [
        "class_correct = list(0. for i in range(10))\n",
        "class_total = list(0. for i in range(10))\n",
        "with torch.no_grad():\n",
        "    for data in testloader:\n",
        "        images, labels = data\n",
        "        outputs = net(images)\n",
        "        _, predicted = torch.max(outputs, 1)\n",
        "        c = (predicted == labels).squeeze()\n",
        "        for i in range(4):\n",
        "            label = labels[i]\n",
        "            class_correct[label] += c[i].item()\n",
        "            class_total[label] += 1\n",
        "\n",
        "\n",
        "for i in range(10):\n",
        "    print('Accuracy of %5s : %2d %%' % (\n",
        "        classes[i], 100 * class_correct[i] / class_total[i]))"
      ],
      "execution_count": 44,
      "outputs": [
        {
          "output_type": "stream",
          "text": [
            "Accuracy of plane : 58 %\n",
            "Accuracy of   car : 56 %\n",
            "Accuracy of  bird : 34 %\n",
            "Accuracy of   cat : 23 %\n",
            "Accuracy of  deer : 48 %\n",
            "Accuracy of   dog : 56 %\n",
            "Accuracy of  frog : 59 %\n",
            "Accuracy of horse : 68 %\n",
            "Accuracy of  ship : 53 %\n",
            "Accuracy of truck : 56 %\n"
          ],
          "name": "stdout"
        }
      ]
    },
    {
      "cell_type": "code",
      "metadata": {
        "id": "vI1bjPEKIO1-",
        "colab_type": "code",
        "colab": {}
      },
      "source": [
        "# function to calculate accuracy\n",
        "def print_accuracy(net, dataloader):\n",
        "    correct = 0\n",
        "    total = 0\n",
        "\n",
        "    with torch.no_grad():\n",
        "        for data in dataloader:\n",
        "            images, labels = data\n",
        "            # Inference on GPU\n",
        "            # images = images.to(device)\n",
        "            # labels = labels.to(device)\n",
        "        \n",
        "            outputs = net(images)\n",
        "            _, predicted = torch.max(outputs.data, 1)\n",
        "            total += labels.size(0)\n",
        "            correct += (predicted == labels).sum().item()\n",
        "        \n",
        "    print('Accuracy of the network on the %d test images: %d %%' % (total,\n",
        "        100 * correct / total))"
      ],
      "execution_count": 0,
      "outputs": []
    },
    {
      "cell_type": "code",
      "metadata": {
        "id": "FCBnmcYcIO2P",
        "colab_type": "code",
        "outputId": "9da8567d-5764-4fcb-aa15-30820c0247fb",
        "colab": {
          "base_uri": "https://localhost:8080/",
          "height": 35
        }
      },
      "source": [
        "# load trained model then test\n",
        "net.load_state_dict(torch.load(PATH))\n",
        "print_accuracy(net, testloader)"
      ],
      "execution_count": 48,
      "outputs": [
        {
          "output_type": "stream",
          "text": [
            "Accuracy of the network on the 10000 test images: 50 %\n"
          ],
          "name": "stdout"
        }
      ]
    },
    {
      "cell_type": "markdown",
      "metadata": {
        "id": "K-Wh4XBDIO2c",
        "colab_type": "text"
      },
      "source": [
        "## 3. Design a better model on CIFAR-10\n",
        "Now it's your job to experiment with CNNs to train a model that achieves **<font color=red>>= 70% accuracy on the test set</font>** of CIFAR-10. <br> You can use the implemented *inception class* below.\n",
        "\n",
        "### Things you can try to change:\n",
        "- Batch size (input parameter of dataloader)\n",
        "- Filter size\n",
        "- Number of filters\n",
        "- Pooling vs Strided Convolution\n",
        "- Network architectures\n",
        "- Optimizers\n",
        "- Activation functions\n",
        "- Regularizations\n",
        "- Model ensembles\n",
        "- Data augmentation"
      ]
    },
    {
      "cell_type": "code",
      "metadata": {
        "id": "AjuUJTtDIO2e",
        "colab_type": "code",
        "colab": {}
      },
      "source": [
        "class Inception(nn.Module):\n",
        "    def __init__(self, in_planes, n1x1, n3x3red, n3x3, n5x5red, n5x5, pool_planes):\n",
        "        super(Inception, self).__init__()\n",
        "        # 1x1 conv branch\n",
        "        self.b1 = nn.Sequential(\n",
        "            nn.Conv2d(in_planes, n1x1, kernel_size=1),\n",
        "            nn.BatchNorm2d(n1x1),\n",
        "            nn.ReLU(True),\n",
        "        )\n",
        "\n",
        "        # 1x1 conv -> 3x3 conv branch\n",
        "        self.b2 = nn.Sequential(\n",
        "            nn.Conv2d(in_planes, n3x3red, kernel_size=1),\n",
        "            nn.BatchNorm2d(n3x3red),\n",
        "            nn.ReLU(True),\n",
        "            nn.Conv2d(n3x3red, n3x3, kernel_size=3, padding=1),\n",
        "            nn.BatchNorm2d(n3x3),\n",
        "            nn.ReLU(True),\n",
        "        )\n",
        "\n",
        "        # 1x1 conv -> 5x5 conv branch\n",
        "        self.b3 = nn.Sequential(\n",
        "            nn.Conv2d(in_planes, n5x5red, kernel_size=1),\n",
        "            nn.BatchNorm2d(n5x5red),\n",
        "            nn.ReLU(True),\n",
        "            nn.Conv2d(n5x5red, n5x5, kernel_size=5, padding=2),\n",
        "            nn.BatchNorm2d(n5x5),\n",
        "            nn.ReLU(True),\n",
        "            nn.Conv2d(n5x5, n5x5, kernel_size=5, padding=2),\n",
        "            nn.BatchNorm2d(n5x5),\n",
        "            nn.ReLU(True),\n",
        "        )\n",
        "\n",
        "        # 3x3 pool -> 1x1 conv branch\n",
        "        self.b4 = nn.Sequential(\n",
        "            nn.MaxPool2d(3, stride=1, padding=1),\n",
        "            nn.Conv2d(in_planes, pool_planes, kernel_size=1),\n",
        "            nn.BatchNorm2d(pool_planes),\n",
        "            nn.ReLU(True),\n",
        "        )\n",
        "\n",
        "    def forward(self, x):\n",
        "        y1 = self.b1(x)\n",
        "        y2 = self.b2(x)\n",
        "        y3 = self.b3(x)\n",
        "        y4 = self.b4(x)\n",
        "        return torch.cat([y1,y2,y3,y4], 1)"
      ],
      "execution_count": 0,
      "outputs": []
    },
    {
      "cell_type": "code",
      "metadata": {
        "id": "x8hDM6NkIO3A",
        "colab_type": "code",
        "colab": {}
      },
      "source": [
        "# Define a CNN model\n",
        "class GoogLeNet(nn.Module):\n",
        "    def __init__(self):\n",
        "        super(GoogLeNet, self).__init__()\n",
        "        ##############################################################################\n",
        "        #                          IMPLEMENT YOUR CODE                               #\n",
        "        ##############################################################################\n",
        "\n",
        "        self.pre_layers = nn.Sequential(\n",
        "            nn.Conv2d(3, 192, kernel_size=3, padding=1),\n",
        "            nn.BatchNorm2d(192),\n",
        "            nn.ReLU(True),\n",
        "        )\n",
        "\n",
        "        self.a3 = Inception(192,  64,  96, 128, 16, 32, 32)\n",
        "        self.b3 = Inception(256, 128, 128, 192, 32, 96, 64)\n",
        "\n",
        "        self.maxpool = nn.MaxPool2d(3, stride=2, padding=1)\n",
        "\n",
        "        self.a4 = Inception(480, 192,  96, 208, 16,  48,  64)\n",
        "        self.b4 = Inception(512, 160, 112, 224, 24,  64,  64)\n",
        "        self.c4 = Inception(512, 128, 128, 256, 24,  64,  64)\n",
        "        self.d4 = Inception(512, 112, 144, 288, 32,  64,  64)\n",
        "        self.e4 = Inception(528, 256, 160, 320, 32, 128, 128)\n",
        "        \n",
        "        self.maxpool = nn.MaxPool2d(3, stride=2, padding=1)\n",
        "\n",
        "        self.a5 = Inception(832, 256, 160, 320, 32, 128, 128)\n",
        "        self.b5 = Inception(832, 384, 192, 384, 48, 128, 128)\n",
        "\n",
        "        self.avgpool = nn.AvgPool2d(8, stride=1)\n",
        "        self.linear = nn.Linear(1024, 10)\n",
        "\n",
        "        ##############################################################################\n",
        "        #                          END OF YOUR CODE                                  #\n",
        "        ##############################################################################\n",
        "\n",
        "    def forward(self, x):\n",
        "        ##############################################################################\n",
        "        #                          IMPLEMENT YOUR CODE                               #\n",
        "        ##############################################################################\n",
        "        \n",
        "        out = self.pre_layers(x)\n",
        "        out = self.a3(out)\n",
        "        out = self.b3(out)\n",
        "        out = self.maxpool(out)\n",
        "        out = self.a4(out)\n",
        "        out = self.b4(out)\n",
        "        out = self.c4(out)\n",
        "        out = self.d4(out)\n",
        "        out = self.e4(out)\n",
        "        out = self.maxpool(out)\n",
        "        out = self.a5(out)\n",
        "        out = self.b5(out)\n",
        "        out = self.avgpool(out)\n",
        "        out = out.view(out.size(0), -1)\n",
        "        out = self.linear(out)\n",
        "        \n",
        "        ##############################################################################\n",
        "        #                          END OF YOUR CODE                                  #\n",
        "        ##############################################################################\n",
        "        return out"
      ],
      "execution_count": 0,
      "outputs": []
    },
    {
      "cell_type": "code",
      "metadata": {
        "id": "uY1EMl4m_y4n",
        "colab_type": "code",
        "colab": {
          "base_uri": "https://localhost:8080/",
          "height": 179
        },
        "outputId": "6a04b769-4301-4928-fa41-9a093dad2723"
      },
      "source": [
        "import time\n",
        "googlenet = GoogLeNet()\n",
        "googlenet = googlenet.to(device)\n",
        "\n",
        "# Define a Loss function and optimizer\n",
        "criterion = nn.CrossEntropyLoss()\n",
        "optimizer = optim.SGD(googlenet.parameters(), lr=0.001, momentum=0.9)\n",
        "\n",
        "start_time = time.time()\n",
        "PATH = './google_net.pth'\n",
        "\n",
        "# Train\n",
        "train(googlenet, trainloader, 2, criterion, optimizer, PATH)\n",
        "print(\"Elapsed time: {}s\".format(time.time() - start_time))"
      ],
      "execution_count": 16,
      "outputs": [
        {
          "output_type": "stream",
          "text": [
            "[1,  2000] loss: 1.609\n",
            "[1,  4000] loss: 1.193\n",
            "[1,  6000] loss: 0.958\n",
            "[2,  2000] loss: 0.790\n",
            "[2,  4000] loss: 0.724\n",
            "[2,  6000] loss: 0.669\n",
            "Finished Training\n",
            "Saved Trained Model\n",
            "Elapsed time: 589.2080492973328s\n"
          ],
          "name": "stdout"
        }
      ]
    },
    {
      "cell_type": "code",
      "metadata": {
        "id": "NcH0jM-3EFyk",
        "colab_type": "code",
        "colab": {
          "base_uri": "https://localhost:8080/",
          "height": 35
        },
        "outputId": "92aa1cd9-ca35-4951-ab89-81888fcbb5fa"
      },
      "source": [
        "# Test\n",
        "googlenet.load_state_dict(torch.load(PATH))\n",
        "print_accuracy(googlenet, testloader)"
      ],
      "execution_count": 17,
      "outputs": [
        {
          "output_type": "stream",
          "text": [
            "Accuracy of the network on the 10000 test images: 77 %\n"
          ],
          "name": "stdout"
        }
      ]
    },
    {
      "cell_type": "code",
      "metadata": {
        "id": "TK-wRVCc_cqH",
        "colab_type": "code",
        "colab": {}
      },
      "source": [
        "# Define a CNN model\n",
        "class BetterNet(nn.Module):\n",
        "    def __init__(self):\n",
        "        super(BetterNet, self).__init__()\n",
        "        ##############################################################################\n",
        "        #                          IMPLEMENT YOUR CODE                               #\n",
        "        ##############################################################################\n",
        "\n",
        "        self.pre_layers = nn.Sequential(\n",
        "            nn.Conv2d(3, 128, kernel_size=3, padding=1),\n",
        "            nn.BatchNorm2d(128),\n",
        "            nn.ReLU(True),\n",
        "        )\n",
        "\n",
        "        self.a3 = Inception(128,  32,  48,  64,  8, 16, 16)\n",
        "        self.b3 = Inception(128,  64,  96, 128, 16, 32, 32)\n",
        "\n",
        "        self.maxpool = nn.MaxPool2d(3, stride=2, padding=1)\n",
        "\n",
        "        self.a4 = Inception(256, 160,  96, 256, 16,  64,  64)\n",
        "        self.b4 = Inception(544, 256, 128, 256, 64, 128, 128)\n",
        "        self.c4 = Inception(768, 256, 128, 256, 64, 128, 128)\n",
        "\n",
        "        self.maxpool = nn.MaxPool2d(3, stride=2, padding=1)\n",
        "\n",
        "        self.a5 = Inception(768, 256, 256, 512, 64, 128, 128)\n",
        "        self.b5 = Inception(1024, 384, 192, 384, 48, 128, 128)\n",
        "\n",
        "        self.avgpool = nn.AvgPool2d(8, stride=1)\n",
        "        self.linear = nn.Linear(1024, 10)\n",
        "        \n",
        "        ##############################################################################\n",
        "        #                          END OF YOUR CODE                                  #\n",
        "        ##############################################################################\n",
        "\n",
        "    def forward(self, x):\n",
        "        ##############################################################################\n",
        "        #                          IMPLEMENT YOUR CODE                               #\n",
        "        ##############################################################################\n",
        "        \n",
        "        out = self.pre_layers(x)\n",
        "        out = self.a3(out)\n",
        "        out = self.b3(out)\n",
        "        out = self.maxpool(out)\n",
        "        out = self.a4(out)\n",
        "        out = self.b4(out)\n",
        "        out = self.c4(out)\n",
        "        out = self.maxpool(out)\n",
        "        out = self.a5(out)\n",
        "        out = self.b5(out)\n",
        "        out = self.avgpool(out)\n",
        "        out = out.view(out.size(0), -1)\n",
        "        out = self.linear(out)\n",
        "        \n",
        "        ##############################################################################\n",
        "        #                          END OF YOUR CODE                                  #\n",
        "        ##############################################################################\n",
        "        return out"
      ],
      "execution_count": 0,
      "outputs": []
    },
    {
      "cell_type": "code",
      "metadata": {
        "id": "NFzXb_PHIO3O",
        "colab_type": "code",
        "colab": {
          "base_uri": "https://localhost:8080/",
          "height": 179
        },
        "outputId": "f869e7ac-02f5-4536-aca8-d16ccc110ebd"
      },
      "source": [
        "betternet = BetterNet()\n",
        "betternet = betternet.to(device)\n",
        "\n",
        "# Define a Loss function and optimizer\n",
        "criterion = nn.CrossEntropyLoss()\n",
        "optimizer = optim.SGD(betternet.parameters(), lr=0.001, momentum=0.9)\n",
        "\n",
        "start_time = time.time()\n",
        "PATH = './better_net.pth'\n",
        "\n",
        "# Train\n",
        "train(betternet, trainloader, 2, criterion, optimizer, PATH)\n",
        "print(\"Elapsed time: {}s\".format(time.time() - start_time))"
      ],
      "execution_count": 19,
      "outputs": [
        {
          "output_type": "stream",
          "text": [
            "[1,  2000] loss: 1.532\n",
            "[1,  4000] loss: 1.108\n",
            "[1,  6000] loss: 0.905\n",
            "[2,  2000] loss: 0.749\n",
            "[2,  4000] loss: 0.691\n",
            "[2,  6000] loss: 0.632\n",
            "Finished Training\n",
            "Saved Trained Model\n",
            "Elapsed time: 452.92896127700806s\n"
          ],
          "name": "stdout"
        }
      ]
    },
    {
      "cell_type": "code",
      "metadata": {
        "id": "VxDSMC5d1-pg",
        "colab_type": "code",
        "colab": {
          "base_uri": "https://localhost:8080/",
          "height": 35
        },
        "outputId": "36223302-15a8-4a35-d16c-2c7d9668b214"
      },
      "source": [
        "# Test\n",
        "betternet.load_state_dict(torch.load(PATH))\n",
        "print_accuracy(betternet, testloader)"
      ],
      "execution_count": 20,
      "outputs": [
        {
          "output_type": "stream",
          "text": [
            "Accuracy of the network on the 10000 test images: 77 %\n"
          ],
          "name": "stdout"
        }
      ]
    },
    {
      "cell_type": "markdown",
      "metadata": {
        "id": "Y6Sbp3-5IO3a",
        "colab_type": "text"
      },
      "source": [
        "### Describe what you did here\n",
        "In this cell you should also write an explanation of what you did, any additional features that you implemented, and any visualizations or graphs that you make in the process of training and evaluating your network."
      ]
    },
    {
      "cell_type": "markdown",
      "metadata": {
        "id": "vd9eQhWTIO3d",
        "colab_type": "text"
      },
      "source": [
        "#### Inception module\n",
        "![Inception module](https://norman3.github.io/papers/images/google_inception/f01.png)\n",
        "\n",
        "#### GoogLeNet structure\n",
        "![GoogLeNet structure](https://norman3.github.io/papers/images/google_inception/f02.png)\n",
        "\n",
        "#### **BetterNet** structure\n",
        "* Based on GoogLeNet architecture, I've rearranged the order of inceptions and\n",
        "resized convolutional layer sizes. Since GoogLeNet is specialized with 336 * 336 px sized image classification, I thought the number of operations to learn parameters is too expensive. To minimize computation time duration while keeping the accuracy higher than 70%, I used the following inception layers.\n",
        "  1. Conv2d\n",
        "  2. BatchNorm2d\n",
        "  3. ReLU\n",
        "  4. Inception\n",
        "    * n1x1(48), n3x3(8), n5x5(16), pool(16)\n",
        "  5. Inception\n",
        "    * n1x1(96), n3x3(16), n5x5(32), pool(32)\n",
        "  6. MaxPool2d\n",
        "  7. Inception\n",
        "    * n1x1(160), n3x3(256), n5x5(64), pool(64)\n",
        "  8. Inception\n",
        "    * n1x1(256), n3x3(256), n5x5(128), pool(128)\n",
        "  9. Inception\n",
        "    * n1x1(256), n3x3(256), n5x5(128), pool(128)\n",
        "  10. MaxPool2d\n",
        "  11. Inception\n",
        "    * n1x1(256), n3x3(512), n5x5(128), pool(128)\n",
        "  12. Inception\n",
        "    * n1x1(384), n3x3(384), n5x5(128), pool(128)\n",
        "  13. AvgPool2d\n",
        "  14. Linear\n",
        "\n"
      ]
    }
  ]
}