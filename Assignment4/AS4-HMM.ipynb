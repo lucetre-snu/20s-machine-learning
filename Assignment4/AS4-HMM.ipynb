{
 "cells": [
  {
   "cell_type": "markdown",
   "metadata": {
    "colab_type": "text",
    "id": "pjDL6W2Yg0SG"
   },
   "source": [
    "# M2608.001300 기계학습 기초 및 전기정보 응용<br> Assignment 4: Hidden Markov Model (HMM)"
   ]
  },
  {
   "cell_type": "code",
   "execution_count": null,
   "metadata": {
    "colab": {},
    "colab_type": "code",
    "id": "nuOq29jxKEmf"
   },
   "outputs": [],
   "source": [
    "# Code from Chapter 16 of Machine Learning: An Algorithmic Perspective (2nd Edition)\n",
    "# by Stephen Marsland (http://stephenmonika.net)\n",
    "\n",
    "# You are free to use, change, or redistribute the code in any way you wish for\n",
    "# non-commercial purposes, but please maintain the name of the original author.\n",
    "# This code comes with no warranty of any kind.\n",
    "\n",
    "# Stephen Marsland, 2008, 2014\n",
    "\n",
    "# A basic Hidden Markov Model"
   ]
  },
  {
   "cell_type": "markdown",
   "metadata": {
    "colab_type": "text",
    "id": "ZR7FCRJFg5d5"
   },
   "source": [
    "## Setup\n",
    "Check that Python 3.5 or later is installed (although Python 2.x may work, it is deprecated so we strongly recommend you use Python 3 instead)."
   ]
  },
  {
   "cell_type": "code",
   "execution_count": null,
   "metadata": {
    "colab": {},
    "colab_type": "code",
    "id": "QBC0Nvu2KFnr"
   },
   "outputs": [],
   "source": [
    "# Python >=3.5 is required\n",
    "import sys\n",
    "assert sys.version_info >= (3, 5)\n",
    "\n",
    "# Common imports\n",
    "import numpy as np\n",
    "from pandas import DataFrame\n",
    "\n",
    "# to make this notebook's output stable across runs\n",
    "np.random.seed(4)"
   ]
  },
  {
   "cell_type": "markdown",
   "metadata": {
    "colab_type": "text",
    "id": "jfFiAOFDhp72"
   },
   "source": [
    "## Problem 1. Evaluation problem\n",
    "Get the probability of seeing an observation. <br>\n",
    "We can use the following 2 algorithms:\n",
    "<br>\n",
    "* <font color=blue>*Forward algorithm*</font> (dynamic programming)\n",
    "* <font color=blue>*Backward algorithm*</font> (dynamic programming)"
   ]
  },
  {
   "cell_type": "code",
   "execution_count": null,
   "metadata": {
    "colab": {},
    "colab_type": "code",
    "id": "_OOmLzmHKFrh"
   },
   "outputs": [],
   "source": [
    "scaling = False"
   ]
  },
  {
   "cell_type": "code",
   "execution_count": null,
   "metadata": {
    "colab": {},
    "colab_type": "code",
    "id": "AwbnzB1JKTt9"
   },
   "outputs": [],
   "source": [
    "\"\"\"\n",
    "Let's denote the parameters of HMM model as,\n",
    "\n",
    "pi : initial state probability\n",
    "a : transition probability\n",
    "b : emission probability\n",
    "obs : observation sequence\n",
    "\"\"\"\n",
    "def HMMfwd(pi, a, b, obs):\n",
    "\n",
    "\t# TODO: Forward algorithm\n",
    "\t####################### YOUR CODE HERE #######################\n",
    "\n",
    "\t##############################################################\n",
    "\treturn alpha,c\n",
    "\n",
    "def HMMbwd(a, b, obs, c):\n",
    "\n",
    "\t# TODO: Backward algorithm\n",
    "\t####################### YOUR CODE HERE #######################\n",
    "\n",
    "\t##############################################################\n",
    "\treturn beta"
   ]
  },
  {
   "cell_type": "markdown",
   "metadata": {
    "colab_type": "text",
    "id": "MpX0npdWjhzd"
   },
   "source": [
    "## Problem 2. Decoding problem\n",
    "Get the underlying state sequence of an observation. <br>\n",
    "We can use the <font color=blue>*Viterbi algorithm*</font> (dynamic programming)."
   ]
  },
  {
   "cell_type": "code",
   "execution_count": null,
   "metadata": {
    "colab": {},
    "colab_type": "code",
    "id": "FRiouIgAKTj4"
   },
   "outputs": [],
   "source": [
    "def Viterbi(pi, a, b, obs):\n",
    "\n",
    "\t# TODO: Viterbi algorithm\n",
    "\t####################### YOUR CODE HERE #######################\n",
    "\n",
    "\t##############################################################\n",
    "\treturn path, delta, phi"
   ]
  },
  {
   "cell_type": "markdown",
   "metadata": {
    "colab_type": "text",
    "id": "w1yWqUPYkkKf"
   },
   "source": [
    "## Problem 3. Learning problem\n",
    "Get the best parameters for the model. <br>\n",
    "We can use the following 3 algorithms:\n",
    "* *MLE* (maximum likelihood estimation)\n",
    "* *Viterbi training* (different from Viterbi decoding)\n",
    "* *Baum Welch algorithm* (a.k.a. forward-backward algorithm, uses expectation-maximization)\n",
    "\n",
    "Here we implement the <font color=blue>*Baum Welch algorithm*</font>."
   ]
  },
  {
   "cell_type": "code",
   "execution_count": null,
   "metadata": {
    "colab": {},
    "colab_type": "code",
    "id": "cYyncMhTKFv4"
   },
   "outputs": [],
   "source": [
    "def BaumWelch(obs,nStates):\n",
    "\n",
    "\tT = np.shape(obs)[0]\n",
    "\txi = np.zeros((nStates,nStates,T))\n",
    "\n",
    "\t# Initialise pi, a, b randomly\n",
    "\tpi = 1./nStates*np.ones((nStates))\n",
    "\ta = np.random.rand(nStates,nStates)\n",
    "\tb = np.random.rand(nStates,np.max(obs)+1)\n",
    "\n",
    "\ttol = 1e-5\n",
    "\terror = tol+1\n",
    "\tmaxits = 100\n",
    "\tnits = 0\n",
    "\n",
    "\t# TODO: Baum Welch algorithm\n",
    "\t####################### YOUR CODE HERE #######################\n",
    "\n",
    "\t##############################################################\n",
    "\treturn pi, a, b\t"
   ]
  },
  {
   "cell_type": "markdown",
   "metadata": {
    "colab_type": "text",
    "id": "pcDIJe5hmNPv"
   },
   "source": [
    "## Toy examples\n",
    "Here are the parameters for HMM model."
   ]
  },
  {
   "cell_type": "code",
   "execution_count": null,
   "metadata": {
    "colab": {},
    "colab_type": "code",
    "id": "nsr_jKaSnBi8"
   },
   "outputs": [],
   "source": [
    "transition_data = {'state': ['TV', 'Bar', 'Party', 'Study'],\n",
    "                          'TV'    : [0.4, 0.3, 0.1, 0.2],\n",
    "                          'Bar'   : [0.6, 0.05, 0.1, 0.25],\n",
    "                          'Party' : [0.7, 0.05, 0.05, 0.2],\n",
    "                          'Study' : [0.3, 0.4, 0.25, 0.05]}\n",
    "\n",
    "emission_data = {'observation': ['tired', 'hangover', 'anxiety', 'good'],\n",
    "                        'TV'    : [0.2, 0.1, 0.2, 0.5],\n",
    "                        'Bar'   : [0.4, 0.2, 0.1, 0.3],\n",
    "                        'Party' : [0.3, 0.4, 0.2, 0.1],\n",
    "                        'Study' : [0.3, 0.05, 0.3, 0.35]}\n",
    "\n",
    "transition_probability = DataFrame(transition_data, columns=['state', 'TV', 'Bar', 'Party', 'Study'])\n",
    "emission_probability = DataFrame(emission_data, columns=['observation', 'TV', 'Bar', 'Party', 'Study'])"
   ]
  },
  {
   "cell_type": "code",
   "execution_count": null,
   "metadata": {
    "colab": {
     "base_uri": "https://localhost:8080/",
     "height": 173
    },
    "colab_type": "code",
    "id": "9pflIWWSsUJg",
    "outputId": "23edb3c6-ceda-410a-fe37-cc60df474221"
   },
   "outputs": [],
   "source": [
    "transition_probability"
   ]
  },
  {
   "cell_type": "code",
   "execution_count": null,
   "metadata": {
    "colab": {
     "base_uri": "https://localhost:8080/",
     "height": 173
    },
    "colab_type": "code",
    "id": "cz5in1TzsZp5",
    "outputId": "dfe2ae33-202e-4975-f8bf-748542f5b364"
   },
   "outputs": [],
   "source": [
    "emission_probability"
   ]
  },
  {
   "cell_type": "code",
   "execution_count": null,
   "metadata": {
    "colab": {},
    "colab_type": "code",
    "id": "XMoWszk7aKN9"
   },
   "outputs": [],
   "source": [
    "try:\n",
    "    a = transition_probability.drop(['state'], axis=1).to_numpy()\n",
    "    b = emission_probability.drop(['observation'], axis=1).to_numpy()\n",
    "except:\n",
    "    a = transition_probability.drop(['state'], axis=1).values\n",
    "    b = emission_probability.drop(['observation'], axis=1).values"
   ]
  },
  {
   "cell_type": "code",
   "execution_count": null,
   "metadata": {
    "colab": {},
    "colab_type": "code",
    "id": "c8g8LFTL6ErZ"
   },
   "outputs": [],
   "source": [
    "# Assume the initial state probabilites are all equal to 0.25\n",
    "pi = np.array([0.25, 0.25, 0.25, 0.25])\n",
    "# obs = np.array(['tired', 'tired', 'good', 'hangover', 'hangover', 'anxiety', 'hangover', 'good'])\n",
    "obs = np.array([0, 0, 3, 1, 1, 2, 1, 3])"
   ]
  },
  {
   "cell_type": "markdown",
   "metadata": {
    "colab_type": "text",
    "id": "tvLi0R9a5m3r"
   },
   "source": [
    "## Problem 4-1. \n",
    "What is the probability of seeing current observation?"
   ]
  },
  {
   "cell_type": "code",
   "execution_count": null,
   "metadata": {
    "colab": {
     "base_uri": "https://localhost:8080/",
     "height": 35
    },
    "colab_type": "code",
    "id": "GRylHpiKK2yu",
    "outputId": "cef2ea13-a781-46f6-e6d1-8abbf09eea8c"
   },
   "outputs": [],
   "source": [
    "####################### YOUR CODE HERE #######################\n",
    "\n",
    "##############################################################"
   ]
  },
  {
   "cell_type": "markdown",
   "metadata": {
    "colab_type": "text",
    "id": "1vRZuEAnK2yw"
   },
   "source": [
    "## Problem 4-2.\n",
    "Given the current observation, what is the most likely sequence of states?"
   ]
  },
  {
   "cell_type": "code",
   "execution_count": null,
   "metadata": {
    "colab": {
     "base_uri": "https://localhost:8080/",
     "height": 35
    },
    "colab_type": "code",
    "id": "H0l3-NkXK2yx",
    "outputId": "3cdd3643-8f66-4c0f-bc15-db03202dc0bb"
   },
   "outputs": [],
   "source": [
    "####################### YOUR CODE HERE #######################\n",
    "\n",
    "##############################################################"
   ]
  },
  {
   "cell_type": "markdown",
   "metadata": {
    "colab_type": "text",
    "id": "LGr1JvFSK2y0"
   },
   "source": [
    "## Problem 4-3.\n",
    "Given the current observation and the model, find the model parameters (transition probability, emission probability, initial state probability) that best fits the data."
   ]
  },
  {
   "cell_type": "code",
   "execution_count": null,
   "metadata": {
    "colab": {
     "base_uri": "https://localhost:8080/",
     "height": 1000
    },
    "colab_type": "code",
    "id": "H_KiGJHzK2y1",
    "outputId": "a7aa404f-9113-4234-a18e-671bd018f500",
    "scrolled": true
   },
   "outputs": [],
   "source": [
    "####################### YOUR CODE HERE #######################\n",
    "\n",
    "##############################################################"
   ]
  },
  {
   "cell_type": "code",
   "execution_count": null,
   "metadata": {
    "colab": {},
    "colab_type": "code",
    "id": "V6VXeQ3agO7O"
   },
   "outputs": [],
   "source": []
  }
 ],
 "metadata": {
  "colab": {
   "collapsed_sections": [],
   "name": "AS4_HMM(Solution).ipynb",
   "provenance": []
  },
  "kernelspec": {
   "display_name": "torch12",
   "language": "python",
   "name": "torch12"
  },
  "language_info": {
   "codemirror_mode": {
    "name": "ipython",
    "version": 3
   },
   "file_extension": ".py",
   "mimetype": "text/x-python",
   "name": "python",
   "nbconvert_exporter": "python",
   "pygments_lexer": "ipython3",
   "version": "3.6.9"
  }
 },
 "nbformat": 4,
 "nbformat_minor": 1
}
