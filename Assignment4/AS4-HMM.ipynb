{
 "cells": [
  {
   "cell_type": "markdown",
   "metadata": {
    "colab_type": "text",
    "id": "pjDL6W2Yg0SG"
   },
   "source": [
    "# M2608.001300 기계학습 기초 및 전기정보 응용<br> Assignment 4: Hidden Markov Model (HMM)"
   ]
  },
  {
   "cell_type": "code",
   "execution_count": 1,
   "metadata": {
    "colab": {},
    "colab_type": "code",
    "id": "nuOq29jxKEmf"
   },
   "outputs": [],
   "source": [
    "# Code from Chapter 16 of Machine Learning: An Algorithmic Perspective (2nd Edition)\n",
    "# by Stephen Marsland (http://stephenmonika.net)\n",
    "\n",
    "# You are free to use, change, or redistribute the code in any way you wish for\n",
    "# non-commercial purposes, but please maintain the name of the original author.\n",
    "# This code comes with no warranty of any kind.\n",
    "\n",
    "# Stephen Marsland, 2008, 2014\n",
    "\n",
    "# A basic Hidden Markov Model"
   ]
  },
  {
   "cell_type": "markdown",
   "metadata": {
    "colab_type": "text",
    "id": "ZR7FCRJFg5d5"
   },
   "source": [
    "## Setup\n",
    "Check that Python 3.5 or later is installed (although Python 2.x may work, it is deprecated so we strongly recommend you use Python 3 instead)."
   ]
  },
  {
   "cell_type": "code",
   "execution_count": 2,
   "metadata": {
    "colab": {},
    "colab_type": "code",
    "id": "QBC0Nvu2KFnr"
   },
   "outputs": [],
   "source": [
    "# Python >=3.5 is required\n",
    "import sys\n",
    "assert sys.version_info >= (3, 5)\n",
    "\n",
    "# Common imports\n",
    "import numpy as np\n",
    "from pandas import DataFrame\n",
    "\n",
    "# to make this notebook's output stable across runs\n",
    "np.random.seed(4)"
   ]
  },
  {
   "cell_type": "markdown",
   "metadata": {
    "colab_type": "text",
    "id": "jfFiAOFDhp72"
   },
   "source": [
    "## Problem 1. Evaluation problem\n",
    "Get the probability of seeing an observation. <br>\n",
    "We can use the following 2 algorithms:\n",
    "<br>\n",
    "* <font color=blue>*Forward algorithm*</font> (dynamic programming)\n",
    "* <font color=blue>*Backward algorithm*</font> (dynamic programming)"
   ]
  },
  {
   "cell_type": "code",
   "execution_count": 3,
   "metadata": {
    "colab": {},
    "colab_type": "code",
    "id": "_OOmLzmHKFrh"
   },
   "outputs": [],
   "source": [
    "scaling = False"
   ]
  },
  {
   "cell_type": "code",
   "execution_count": 4,
   "metadata": {
    "colab": {},
    "colab_type": "code",
    "id": "AwbnzB1JKTt9"
   },
   "outputs": [],
   "source": [
    "\"\"\"\n",
    "Let's denote the parameters of HMM model as,\n",
    "\n",
    "pi : initial state probability\n",
    "a : transition probability\n",
    "b : emission probability\n",
    "obs : observation sequence\n",
    "\"\"\"\n",
    "def HMMfwd(pi, a, b, obs):\n",
    "    # TODO: Forward algorithm\n",
    "    ####################### YOUR CODE HERE #######################\n",
    "    nStates = np.shape(b)[0]\n",
    "    T = np.shape(obs)[0]\n",
    "\n",
    "    alpha = np.zeros((nStates,T))\n",
    "\n",
    "    alpha[:,0] = pi*b[:,obs[0]]\n",
    "\n",
    "    for t in range(1,T):\n",
    "        for s in range(nStates):\n",
    "            alpha[s,t] = b[s,obs[t]] * np.sum(alpha[:,t-1] * a[:,s])\n",
    "\n",
    "    c = np.ones((T))\n",
    "    if scaling:\n",
    "        for t in range(T):\n",
    "            c[t] = np.sum(alpha[:,t])\n",
    "            alpha[:,t] /= c[t]\n",
    "    ##############################################################\n",
    "    return alpha, c\n",
    "\n",
    "def HMMbwd(a, b, obs, c):\n",
    "    # TODO: Backward algorithm\n",
    "    ####################### YOUR CODE HERE #######################\n",
    "    nStates = np.shape(b)[0]\n",
    "    T = np.shape(obs)[0]\n",
    "\n",
    "    beta = np.zeros((nStates,T))\n",
    "\n",
    "    beta[:,T-1] = 1.0 #aLast\n",
    "\n",
    "    for t in range(T-2,-1,-1):\n",
    "        for s in range(nStates):\n",
    "            beta[s,t] = np.sum(b[:,obs[t+1]] * beta[:,t+1] * a[s,:])\n",
    "\n",
    "    for t in range(T):\n",
    "        beta[:,t] /= c[t]\n",
    "    #beta[:,0] = b[:,obs[0]] * np.sum(beta[:,1] * pi)\n",
    "    ##############################################################\n",
    "    return beta"
   ]
  },
  {
   "cell_type": "markdown",
   "metadata": {
    "colab_type": "text",
    "id": "MpX0npdWjhzd"
   },
   "source": [
    "## Problem 2. Decoding problem\n",
    "Get the underlying state sequence of an observation. <br>\n",
    "We can use the <font color=blue>*Viterbi algorithm*</font> (dynamic programming)."
   ]
  },
  {
   "cell_type": "code",
   "execution_count": 5,
   "metadata": {
    "colab": {},
    "colab_type": "code",
    "id": "FRiouIgAKTj4"
   },
   "outputs": [],
   "source": [
    "def Viterbi(pi, a, b, obs):\n",
    "    # TODO: Viterbi algorithm\n",
    "    ####################### YOUR CODE HERE #######################\n",
    "    nStates = np.shape(b)[0]\n",
    "    T = np.shape(obs)[0]\n",
    "\n",
    "    path = np.zeros(T, dtype=int)\n",
    "    delta = np.zeros((nStates,T))\n",
    "    phi = np.zeros((nStates,T), dtype=int)\n",
    "\n",
    "    delta[:,0] = pi * b[:,obs[0]]\n",
    "    phi[:,0] = 0\n",
    "\n",
    "    for t in range(1,T):\n",
    "        for s in range(nStates):\n",
    "            delta[s,t] = np.max(delta[:,t-1]*a[:,s])*b[s,obs[t]]\n",
    "            phi[s,t] = np.argmax(delta[:,t-1]*a[:,s])\n",
    "\n",
    "    path[T-1] = np.argmax(delta[:,T-1])\n",
    "    for t in range(T-2,-1,-1):\n",
    "        path[t] = phi[path[t+1],t+1]\n",
    "    ##############################################################\n",
    "    return path, delta, phi"
   ]
  },
  {
   "cell_type": "markdown",
   "metadata": {
    "colab_type": "text",
    "id": "w1yWqUPYkkKf"
   },
   "source": [
    "## Problem 3. Learning problem\n",
    "Get the best parameters for the model. <br>\n",
    "We can use the following 3 algorithms:\n",
    "* *MLE* (maximum likelihood estimation)\n",
    "* *Viterbi training* (different from Viterbi decoding)\n",
    "* *Baum Welch algorithm* (a.k.a. forward-backward algorithm, uses expectation-maximization)\n",
    "\n",
    "Here we implement the <font color=blue>*Baum Welch algorithm*</font>."
   ]
  },
  {
   "cell_type": "code",
   "execution_count": 17,
   "metadata": {
    "colab": {},
    "colab_type": "code",
    "id": "cYyncMhTKFv4"
   },
   "outputs": [],
   "source": [
    "def BaumWelch(obs, nStates):\n",
    "\n",
    "    T = np.shape(obs)[0]\n",
    "    xi = np.zeros((nStates,nStates,T))\n",
    "\n",
    "    # Initialise pi, a, b randomly\n",
    "    pi = 1./nStates*np.ones((nStates))\n",
    "    a = np.random.rand(nStates,nStates)\n",
    "    b = np.random.rand(nStates,np.max(obs)+1)\n",
    "\n",
    "    tol = 1e-5\n",
    "    error = tol+1\n",
    "    maxits = 100\n",
    "    nits = 0\n",
    "\n",
    "    # TODO: Baum Welch algorithm\n",
    "    ####################### YOUR CODE HERE #######################\n",
    "    while ((error > tol) & (nits < maxits)):\n",
    "        nits += 1\n",
    "        oldpi = pi.copy()\n",
    "        olda = a.copy()\n",
    "        oldb = b.copy()\n",
    "\n",
    "        # E step\n",
    "        alpha,c = HMMfwd(pi, a, b, obs)\n",
    "        beta = HMMbwd(a, b, obs, c) \n",
    "\n",
    "        for t in range(T-1):\n",
    "            for i in range(nStates):\n",
    "                for j in range(nStates):\n",
    "                    xi[i,j,t] = alpha[i,t]*a[i,j]*b[j,obs[t+1]]*beta[j,t+1]\n",
    "            xi[:,:,t] /= np.sum(xi[:,:,t])\n",
    "\n",
    "        # The last step has no b, beta in\n",
    "        for i in range(nStates):\n",
    "            for j in range(nStates):\n",
    "                xi[i,j,T-1] = alpha[i,T-1]*a[i,j]\n",
    "        xi[:,:,T-1] /= np.sum(xi[:,:,T-1])\n",
    "\n",
    "        # M step\n",
    "        for i in range(nStates):\n",
    "            pi[i] = np.sum(xi[i,:,0])\n",
    "            for j in range(nStates):\n",
    "                a[i,j] = np.sum(xi[i,j,:T-1])/np.sum(xi[i,:,:T-1])\n",
    "\n",
    "            for k in range(max(obs)):\n",
    "                found = (obs==k).nonzero()\n",
    "                b[i,k] = np.sum(xi[i,:,found])/np.sum(xi[i,:,:])\n",
    "\n",
    "        error = (np.abs(a-olda)).max() + (np.abs(b-oldb)).max() \n",
    "        print(nits, error, 1./np.sum(1./c), np.sum(alpha[:,T-1]))\n",
    "    ##############################################################\n",
    "    return pi, a, b"
   ]
  },
  {
   "cell_type": "markdown",
   "metadata": {
    "colab_type": "text",
    "id": "pcDIJe5hmNPv"
   },
   "source": [
    "## Toy examples\n",
    "Here are the parameters for HMM model."
   ]
  },
  {
   "cell_type": "code",
   "execution_count": 7,
   "metadata": {
    "colab": {},
    "colab_type": "code",
    "id": "nsr_jKaSnBi8"
   },
   "outputs": [],
   "source": [
    "transition_data = {'state': ['TV', 'Bar', 'Party', 'Study'],\n",
    "                          'TV'    : [0.4, 0.3, 0.1, 0.2],\n",
    "                          'Bar'   : [0.6, 0.05, 0.1, 0.25],\n",
    "                          'Party' : [0.7, 0.05, 0.05, 0.2],\n",
    "                          'Study' : [0.3, 0.4, 0.25, 0.05]}\n",
    "\n",
    "emission_data = {'observation': ['tired', 'hangover', 'anxiety', 'good'],\n",
    "                        'TV'    : [0.2, 0.1, 0.2, 0.5],\n",
    "                        'Bar'   : [0.4, 0.2, 0.1, 0.3],\n",
    "                        'Party' : [0.3, 0.4, 0.2, 0.1],\n",
    "                        'Study' : [0.3, 0.05, 0.3, 0.35]}\n",
    "\n",
    "transition_probability = DataFrame(transition_data, columns=['state', 'TV', 'Bar', 'Party', 'Study'])\n",
    "emission_probability = DataFrame(emission_data, columns=['observation', 'TV', 'Bar', 'Party', 'Study'])"
   ]
  },
  {
   "cell_type": "code",
   "execution_count": 8,
   "metadata": {
    "colab": {
     "base_uri": "https://localhost:8080/",
     "height": 173
    },
    "colab_type": "code",
    "id": "9pflIWWSsUJg",
    "outputId": "23edb3c6-ceda-410a-fe37-cc60df474221"
   },
   "outputs": [
    {
     "data": {
      "text/html": [
       "<div>\n",
       "<style scoped>\n",
       "    .dataframe tbody tr th:only-of-type {\n",
       "        vertical-align: middle;\n",
       "    }\n",
       "\n",
       "    .dataframe tbody tr th {\n",
       "        vertical-align: top;\n",
       "    }\n",
       "\n",
       "    .dataframe thead th {\n",
       "        text-align: right;\n",
       "    }\n",
       "</style>\n",
       "<table border=\"1\" class=\"dataframe\">\n",
       "  <thead>\n",
       "    <tr style=\"text-align: right;\">\n",
       "      <th></th>\n",
       "      <th>state</th>\n",
       "      <th>TV</th>\n",
       "      <th>Bar</th>\n",
       "      <th>Party</th>\n",
       "      <th>Study</th>\n",
       "    </tr>\n",
       "  </thead>\n",
       "  <tbody>\n",
       "    <tr>\n",
       "      <th>0</th>\n",
       "      <td>TV</td>\n",
       "      <td>0.4</td>\n",
       "      <td>0.60</td>\n",
       "      <td>0.70</td>\n",
       "      <td>0.30</td>\n",
       "    </tr>\n",
       "    <tr>\n",
       "      <th>1</th>\n",
       "      <td>Bar</td>\n",
       "      <td>0.3</td>\n",
       "      <td>0.05</td>\n",
       "      <td>0.05</td>\n",
       "      <td>0.40</td>\n",
       "    </tr>\n",
       "    <tr>\n",
       "      <th>2</th>\n",
       "      <td>Party</td>\n",
       "      <td>0.1</td>\n",
       "      <td>0.10</td>\n",
       "      <td>0.05</td>\n",
       "      <td>0.25</td>\n",
       "    </tr>\n",
       "    <tr>\n",
       "      <th>3</th>\n",
       "      <td>Study</td>\n",
       "      <td>0.2</td>\n",
       "      <td>0.25</td>\n",
       "      <td>0.20</td>\n",
       "      <td>0.05</td>\n",
       "    </tr>\n",
       "  </tbody>\n",
       "</table>\n",
       "</div>"
      ],
      "text/plain": [
       "   state   TV   Bar  Party  Study\n",
       "0     TV  0.4  0.60   0.70   0.30\n",
       "1    Bar  0.3  0.05   0.05   0.40\n",
       "2  Party  0.1  0.10   0.05   0.25\n",
       "3  Study  0.2  0.25   0.20   0.05"
      ]
     },
     "execution_count": 8,
     "metadata": {},
     "output_type": "execute_result"
    }
   ],
   "source": [
    "transition_probability"
   ]
  },
  {
   "cell_type": "code",
   "execution_count": 9,
   "metadata": {
    "colab": {
     "base_uri": "https://localhost:8080/",
     "height": 173
    },
    "colab_type": "code",
    "id": "cz5in1TzsZp5",
    "outputId": "dfe2ae33-202e-4975-f8bf-748542f5b364"
   },
   "outputs": [
    {
     "data": {
      "text/html": [
       "<div>\n",
       "<style scoped>\n",
       "    .dataframe tbody tr th:only-of-type {\n",
       "        vertical-align: middle;\n",
       "    }\n",
       "\n",
       "    .dataframe tbody tr th {\n",
       "        vertical-align: top;\n",
       "    }\n",
       "\n",
       "    .dataframe thead th {\n",
       "        text-align: right;\n",
       "    }\n",
       "</style>\n",
       "<table border=\"1\" class=\"dataframe\">\n",
       "  <thead>\n",
       "    <tr style=\"text-align: right;\">\n",
       "      <th></th>\n",
       "      <th>observation</th>\n",
       "      <th>TV</th>\n",
       "      <th>Bar</th>\n",
       "      <th>Party</th>\n",
       "      <th>Study</th>\n",
       "    </tr>\n",
       "  </thead>\n",
       "  <tbody>\n",
       "    <tr>\n",
       "      <th>0</th>\n",
       "      <td>tired</td>\n",
       "      <td>0.2</td>\n",
       "      <td>0.4</td>\n",
       "      <td>0.3</td>\n",
       "      <td>0.30</td>\n",
       "    </tr>\n",
       "    <tr>\n",
       "      <th>1</th>\n",
       "      <td>hangover</td>\n",
       "      <td>0.1</td>\n",
       "      <td>0.2</td>\n",
       "      <td>0.4</td>\n",
       "      <td>0.05</td>\n",
       "    </tr>\n",
       "    <tr>\n",
       "      <th>2</th>\n",
       "      <td>anxiety</td>\n",
       "      <td>0.2</td>\n",
       "      <td>0.1</td>\n",
       "      <td>0.2</td>\n",
       "      <td>0.30</td>\n",
       "    </tr>\n",
       "    <tr>\n",
       "      <th>3</th>\n",
       "      <td>good</td>\n",
       "      <td>0.5</td>\n",
       "      <td>0.3</td>\n",
       "      <td>0.1</td>\n",
       "      <td>0.35</td>\n",
       "    </tr>\n",
       "  </tbody>\n",
       "</table>\n",
       "</div>"
      ],
      "text/plain": [
       "  observation   TV  Bar  Party  Study\n",
       "0       tired  0.2  0.4    0.3   0.30\n",
       "1    hangover  0.1  0.2    0.4   0.05\n",
       "2     anxiety  0.2  0.1    0.2   0.30\n",
       "3        good  0.5  0.3    0.1   0.35"
      ]
     },
     "execution_count": 9,
     "metadata": {},
     "output_type": "execute_result"
    }
   ],
   "source": [
    "emission_probability"
   ]
  },
  {
   "cell_type": "code",
   "execution_count": 10,
   "metadata": {
    "colab": {},
    "colab_type": "code",
    "id": "XMoWszk7aKN9"
   },
   "outputs": [],
   "source": [
    "try:\n",
    "    a = transition_probability.drop(['state'], axis=1).to_numpy()\n",
    "    b = emission_probability.drop(['observation'], axis=1).to_numpy()\n",
    "except:\n",
    "    a = transition_probability.drop(['state'], axis=1).values\n",
    "    b = emission_probability.drop(['observation'], axis=1).values"
   ]
  },
  {
   "cell_type": "code",
   "execution_count": 11,
   "metadata": {
    "colab": {},
    "colab_type": "code",
    "id": "c8g8LFTL6ErZ"
   },
   "outputs": [],
   "source": [
    "# Assume the initial state probabilites are all equal to 0.25\n",
    "pi = np.array([0.25, 0.25, 0.25, 0.25])\n",
    "# obs = np.array(['tired', 'tired', 'good', 'hangover', 'hangover', 'anxiety', 'hangover', 'good'])\n",
    "obs = np.array([0, 0, 3, 1, 1, 2, 1, 3])\n",
    "\n",
    "nStates = np.shape(b)[0]\n",
    "T = np.shape(obs)[0]"
   ]
  },
  {
   "cell_type": "markdown",
   "metadata": {
    "colab_type": "text",
    "id": "tvLi0R9a5m3r"
   },
   "source": [
    "## Problem 4-1. \n",
    "What is the probability of seeing current observation?"
   ]
  },
  {
   "cell_type": "code",
   "execution_count": 12,
   "metadata": {
    "colab": {
     "base_uri": "https://localhost:8080/",
     "height": 35
    },
    "colab_type": "code",
    "id": "GRylHpiKK2yu",
    "outputId": "cef2ea13-a781-46f6-e6d1-8abbf09eea8c"
   },
   "outputs": [
    {
     "name": "stdout",
     "output_type": "stream",
     "text": [
      "=== Probability of the Current Observation ===\n",
      " 2.1380223436320317e-05\n"
     ]
    }
   ],
   "source": [
    "####################### YOUR CODE HERE #######################\n",
    "alpha, c = HMMfwd(pi, a, b, obs)\n",
    "print('=== Probability of the Current Observation ===\\n', np.sum(alpha[:,-1]))\n",
    "##############################################################"
   ]
  },
  {
   "cell_type": "markdown",
   "metadata": {
    "colab_type": "text",
    "id": "1vRZuEAnK2yw"
   },
   "source": [
    "## Problem 4-2.\n",
    "Given the current observation, what is the most likely sequence of states?"
   ]
  },
  {
   "cell_type": "code",
   "execution_count": 13,
   "metadata": {
    "colab": {
     "base_uri": "https://localhost:8080/",
     "height": 35
    },
    "colab_type": "code",
    "id": "H0l3-NkXK2yx",
    "outputId": "3cdd3643-8f66-4c0f-bc15-db03202dc0bb"
   },
   "outputs": [
    {
     "name": "stdout",
     "output_type": "stream",
     "text": [
      "=== Most Likely Sequence ===\n",
      " [3 0 0 0 0 1 0 2]\n",
      "====== Path Reference ======\n",
      " [[0 3 0 0 0 0 1 0]\n",
      " [0 3 0 0 0 0 0 0]\n",
      " [0 0 0 0 0 0 0 0]\n",
      " [0 0 2 2 0 0 1 0]]\n"
     ]
    }
   ],
   "source": [
    "####################### YOUR CODE HERE #######################\n",
    "path, delta, phi = Viterbi(pi, a, b, obs)\n",
    "print('=== Most Likely Sequence ===\\n', path)\n",
    "print('====== Path Reference ======\\n', phi)\n",
    "##############################################################"
   ]
  },
  {
   "cell_type": "markdown",
   "metadata": {
    "colab_type": "text",
    "id": "LGr1JvFSK2y0"
   },
   "source": [
    "## Problem 4-3.\n",
    "Given the current observation and the model, find the model parameters (transition probability, emission probability, initial state probability) that best fits the data."
   ]
  },
  {
   "cell_type": "code",
   "execution_count": 18,
   "metadata": {
    "colab": {
     "base_uri": "https://localhost:8080/",
     "height": 1000
    },
    "colab_type": "code",
    "id": "H_KiGJHzK2y1",
    "outputId": "a7aa404f-9113-4234-a18e-671bd018f500",
    "scrolled": true
   },
   "outputs": [
    {
     "name": "stdout",
     "output_type": "stream",
     "text": [
      "1 1.2553719997443726 0.125 0.6428743098946529\n",
      "2 0.1413069220135454 0.125 9.155052754146224e-05\n",
      "3 0.129292832750675 0.125 0.00010103391588834797\n",
      "4 0.16104877463843692 0.125 0.0001123413753110763\n",
      "5 0.18836878278163527 0.125 0.0001317606426238109\n",
      "6 0.22557664480296424 0.125 0.0001724120741806941\n",
      "7 0.25196084447873107 0.125 0.00027436029675387996\n",
      "8 0.3618165058983672 0.125 0.0006262616995234997\n",
      "9 0.31909663012011963 0.125 0.0021149800424338137\n",
      "10 0.19928471849548807 0.125 0.005530599699368257\n",
      "11 0.18406137452980043 0.125 0.00894790959168759\n",
      "12 0.11363555021236155 0.125 0.012021288898433744\n",
      "13 0.06531816893968478 0.125 0.013115605684131315\n",
      "14 0.041041473019478525 0.125 0.012860143770728244\n",
      "15 0.028139182081453273 0.125 0.012534705196424049\n",
      "16 0.020126245832081502 0.125 0.012294515158403569\n",
      "17 0.014759576324243184 0.125 0.012120653823612467\n",
      "18 0.011010855081655557 0.125 0.011992998130418068\n",
      "19 0.008317553761690577 0.125 0.011897831164375369\n",
      "20 0.006342183838533133 0.125 0.01182600802251132\n",
      "21 0.004870505400063563 0.125 0.011771287183285314\n",
      "22 0.0037607914805314335 0.125 0.0117292925543243\n",
      "23 0.0029161656550394377 0.125 0.011696883908844945\n",
      "24 0.0022686163224059364 0.125 0.011671764864875546\n",
      "25 0.001769337415626293 0.125 0.011652230465897084\n",
      "26 0.0013826692630533044 0.125 0.011636999443164224\n",
      "27 0.0010821717797752095 0.125 0.01162509960109601\n",
      "28 0.0008480052022202811 0.125 0.011615787588314025\n",
      "29 0.0006651378570162181 0.125 0.011608491564918715\n",
      "30 0.0005220919518354461 0.125 0.011602769506500035\n",
      "31 0.00041004845926160215 0.125 0.011598278429649663\n",
      "32 0.00032219733011162877 0.125 0.011594751397646324\n",
      "33 0.00025325889095344526 0.125 0.011591980164367783\n",
      "34 0.00019912696990802368 0.125 0.011589801964758709\n",
      "35 0.00015660004265571903 0.125 0.011588089393126541\n",
      "36 0.00012317695974412013 0.125 0.011586742605047167\n",
      "37 9.690065574243184e-05 0.125 0.011585683283047637\n",
      "38 7.62378886477455e-05 0.125 0.01158484995070458\n",
      "39 5.998627720240547e-05 0.125 0.01158419432363013\n",
      "40 4.720217358849117e-05 0.125 0.011583678461558809\n",
      "41 3.714453572006837e-05 0.125 0.011583272541722136\n",
      "42 2.9231146618624934e-05 0.125 0.0115829531155277\n",
      "43 2.3004400388390315e-05 0.125 0.011582701742120727\n",
      "44 1.8104524368733887e-05 0.125 0.011582503916410018\n",
      "45 1.4248596409032807e-05 0.125 0.011582348227518184\n",
      "46 1.1214087690669672e-05 0.125 0.011582225697763945\n",
      "47 8.825945442699188e-06 0.125 0.011582129263223802\n",
      "===== Transition Probability ====\n",
      " [[2.64387930e-50 0.00000000e+00 1.00000000e+00 0.00000000e+00]\n",
      " [1.00000000e+00 0.00000000e+00 0.00000000e+00 0.00000000e+00]\n",
      " [9.99973309e-01 2.66909127e-05 1.35469155e-32 1.11329384e-31]\n",
      " [1.49495015e-36 5.00000000e-01 2.93110655e-30 5.00000000e-01]]\n",
      "====== Emission Probability =====\n",
      " [[0.00000000e+000 3.33339265e-001 3.33339265e-001 5.14653697e-001]\n",
      " [0.00000000e+000 0.00000000e+000 2.33222980e-117 8.10144422e-001]\n",
      " [0.00000000e+000 1.00000000e+000 0.00000000e+000 1.48726839e-001]\n",
      " [1.00000000e+000 0.00000000e+000 0.00000000e+000 1.89025759e-001]]\n",
      "=== Initial State Probability ===\n",
      " [0. 0. 0. 1.]\n"
     ]
    }
   ],
   "source": [
    "####################### YOUR CODE HERE #######################\n",
    "pi, a, b = BaumWelch(obs, nStates)\n",
    "print('===== Transition Probability ====\\n', a)\n",
    "print('====== Emission Probability =====\\n', b)\n",
    "print('=== Initial State Probability ===\\n', pi)\n",
    "##############################################################"
   ]
  },
  {
   "cell_type": "code",
   "execution_count": null,
   "metadata": {},
   "outputs": [],
   "source": []
  }
 ],
 "metadata": {
  "colab": {
   "collapsed_sections": [],
   "name": "AS4_HMM(Solution).ipynb",
   "provenance": []
  },
  "kernelspec": {
   "display_name": "Python 3",
   "language": "python",
   "name": "python3"
  },
  "language_info": {
   "codemirror_mode": {
    "name": "ipython",
    "version": 3
   },
   "file_extension": ".py",
   "mimetype": "text/x-python",
   "name": "python",
   "nbconvert_exporter": "python",
   "pygments_lexer": "ipython3",
   "version": "3.7.1"
  }
 },
 "nbformat": 4,
 "nbformat_minor": 1
}
